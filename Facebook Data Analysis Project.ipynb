{
 "cells": [
  {
   "cell_type": "code",
   "execution_count": 1,
   "id": "aa85c58c",
   "metadata": {
    "_cell_guid": "b1076dfc-b9ad-4769-8c92-a6c4dae69d19",
    "_uuid": "8f2839f25d086af736a60e9eeb907d3b93b6e0e5",
    "execution": {
     "iopub.execute_input": "2024-10-08T12:41:01.524086Z",
     "iopub.status.busy": "2024-10-08T12:41:01.523654Z",
     "iopub.status.idle": "2024-10-08T12:41:04.190471Z",
     "shell.execute_reply": "2024-10-08T12:41:04.189185Z"
    },
    "papermill": {
     "duration": 2.685464,
     "end_time": "2024-10-08T12:41:04.193509",
     "exception": false,
     "start_time": "2024-10-08T12:41:01.508045",
     "status": "completed"
    },
    "tags": []
   },
   "outputs": [],
   "source": [
    "import numpy as np\n",
    "import pandas as pd\n",
    "import matplotlib.pyplot as plt\n",
    "import seaborn as sns\n",
    "import warnings\n",
    "warnings.filterwarnings('ignore')"
   ]
  },
  {
   "cell_type": "markdown",
   "id": "3b908b7e",
   "metadata": {
    "papermill": {
     "duration": 0.013349,
     "end_time": "2024-10-08T12:41:04.220794",
     "exception": false,
     "start_time": "2024-10-08T12:41:04.207445",
     "status": "completed"
    },
    "tags": []
   },
   "source": [
    "# Loading Dataset"
   ]
  },
  {
   "cell_type": "code",
   "execution_count": 2,
   "id": "3fd332ae",
   "metadata": {
    "execution": {
     "iopub.execute_input": "2024-10-08T12:41:04.249987Z",
     "iopub.status.busy": "2024-10-08T12:41:04.249397Z",
     "iopub.status.idle": "2024-10-08T12:41:04.331109Z",
     "shell.execute_reply": "2024-10-08T12:41:04.329911Z"
    },
    "papermill": {
     "duration": 0.099522,
     "end_time": "2024-10-08T12:41:04.334048",
     "exception": false,
     "start_time": "2024-10-08T12:41:04.234526",
     "status": "completed"
    },
    "tags": []
   },
   "outputs": [],
   "source": [
    "df = pd.read_csv('/kaggle/input/facebook-live-sellers-in-thailand-uci-ml-repo/Live.csv')"
   ]
  },
  {
   "cell_type": "code",
   "execution_count": 3,
   "id": "f085cab9",
   "metadata": {
    "execution": {
     "iopub.execute_input": "2024-10-08T12:41:04.363384Z",
     "iopub.status.busy": "2024-10-08T12:41:04.362946Z",
     "iopub.status.idle": "2024-10-08T12:41:04.401698Z",
     "shell.execute_reply": "2024-10-08T12:41:04.400432Z"
    },
    "papermill": {
     "duration": 0.056774,
     "end_time": "2024-10-08T12:41:04.404574",
     "exception": false,
     "start_time": "2024-10-08T12:41:04.347800",
     "status": "completed"
    },
    "tags": []
   },
   "outputs": [
    {
     "data": {
      "text/html": [
       "<div>\n",
       "<style scoped>\n",
       "    .dataframe tbody tr th:only-of-type {\n",
       "        vertical-align: middle;\n",
       "    }\n",
       "\n",
       "    .dataframe tbody tr th {\n",
       "        vertical-align: top;\n",
       "    }\n",
       "\n",
       "    .dataframe thead th {\n",
       "        text-align: right;\n",
       "    }\n",
       "</style>\n",
       "<table border=\"1\" class=\"dataframe\">\n",
       "  <thead>\n",
       "    <tr style=\"text-align: right;\">\n",
       "      <th></th>\n",
       "      <th>status_id</th>\n",
       "      <th>status_type</th>\n",
       "      <th>status_published</th>\n",
       "      <th>num_reactions</th>\n",
       "      <th>num_comments</th>\n",
       "      <th>num_shares</th>\n",
       "      <th>num_likes</th>\n",
       "      <th>num_loves</th>\n",
       "      <th>num_wows</th>\n",
       "      <th>num_hahas</th>\n",
       "      <th>num_sads</th>\n",
       "      <th>num_angrys</th>\n",
       "      <th>Column1</th>\n",
       "      <th>Column2</th>\n",
       "      <th>Column3</th>\n",
       "      <th>Column4</th>\n",
       "    </tr>\n",
       "  </thead>\n",
       "  <tbody>\n",
       "    <tr>\n",
       "      <th>0</th>\n",
       "      <td>246675545449582_1649696485147474</td>\n",
       "      <td>video</td>\n",
       "      <td>4/22/2018 6:00</td>\n",
       "      <td>529</td>\n",
       "      <td>512</td>\n",
       "      <td>262</td>\n",
       "      <td>432</td>\n",
       "      <td>92</td>\n",
       "      <td>3</td>\n",
       "      <td>1</td>\n",
       "      <td>1</td>\n",
       "      <td>0</td>\n",
       "      <td>NaN</td>\n",
       "      <td>NaN</td>\n",
       "      <td>NaN</td>\n",
       "      <td>NaN</td>\n",
       "    </tr>\n",
       "    <tr>\n",
       "      <th>1</th>\n",
       "      <td>246675545449582_1649426988507757</td>\n",
       "      <td>photo</td>\n",
       "      <td>4/21/2018 22:45</td>\n",
       "      <td>150</td>\n",
       "      <td>0</td>\n",
       "      <td>0</td>\n",
       "      <td>150</td>\n",
       "      <td>0</td>\n",
       "      <td>0</td>\n",
       "      <td>0</td>\n",
       "      <td>0</td>\n",
       "      <td>0</td>\n",
       "      <td>NaN</td>\n",
       "      <td>NaN</td>\n",
       "      <td>NaN</td>\n",
       "      <td>NaN</td>\n",
       "    </tr>\n",
       "    <tr>\n",
       "      <th>2</th>\n",
       "      <td>246675545449582_1648730588577397</td>\n",
       "      <td>video</td>\n",
       "      <td>4/21/2018 6:17</td>\n",
       "      <td>227</td>\n",
       "      <td>236</td>\n",
       "      <td>57</td>\n",
       "      <td>204</td>\n",
       "      <td>21</td>\n",
       "      <td>1</td>\n",
       "      <td>1</td>\n",
       "      <td>0</td>\n",
       "      <td>0</td>\n",
       "      <td>NaN</td>\n",
       "      <td>NaN</td>\n",
       "      <td>NaN</td>\n",
       "      <td>NaN</td>\n",
       "    </tr>\n",
       "    <tr>\n",
       "      <th>3</th>\n",
       "      <td>246675545449582_1648576705259452</td>\n",
       "      <td>photo</td>\n",
       "      <td>4/21/2018 2:29</td>\n",
       "      <td>111</td>\n",
       "      <td>0</td>\n",
       "      <td>0</td>\n",
       "      <td>111</td>\n",
       "      <td>0</td>\n",
       "      <td>0</td>\n",
       "      <td>0</td>\n",
       "      <td>0</td>\n",
       "      <td>0</td>\n",
       "      <td>NaN</td>\n",
       "      <td>NaN</td>\n",
       "      <td>NaN</td>\n",
       "      <td>NaN</td>\n",
       "    </tr>\n",
       "    <tr>\n",
       "      <th>4</th>\n",
       "      <td>246675545449582_1645700502213739</td>\n",
       "      <td>photo</td>\n",
       "      <td>4/18/2018 3:22</td>\n",
       "      <td>213</td>\n",
       "      <td>0</td>\n",
       "      <td>0</td>\n",
       "      <td>204</td>\n",
       "      <td>9</td>\n",
       "      <td>0</td>\n",
       "      <td>0</td>\n",
       "      <td>0</td>\n",
       "      <td>0</td>\n",
       "      <td>NaN</td>\n",
       "      <td>NaN</td>\n",
       "      <td>NaN</td>\n",
       "      <td>NaN</td>\n",
       "    </tr>\n",
       "  </tbody>\n",
       "</table>\n",
       "</div>"
      ],
      "text/plain": [
       "                          status_id status_type status_published  \\\n",
       "0  246675545449582_1649696485147474       video   4/22/2018 6:00   \n",
       "1  246675545449582_1649426988507757       photo  4/21/2018 22:45   \n",
       "2  246675545449582_1648730588577397       video   4/21/2018 6:17   \n",
       "3  246675545449582_1648576705259452       photo   4/21/2018 2:29   \n",
       "4  246675545449582_1645700502213739       photo   4/18/2018 3:22   \n",
       "\n",
       "   num_reactions  num_comments  num_shares  num_likes  num_loves  num_wows  \\\n",
       "0            529           512         262        432         92         3   \n",
       "1            150             0           0        150          0         0   \n",
       "2            227           236          57        204         21         1   \n",
       "3            111             0           0        111          0         0   \n",
       "4            213             0           0        204          9         0   \n",
       "\n",
       "   num_hahas  num_sads  num_angrys  Column1  Column2  Column3  Column4  \n",
       "0          1         1           0      NaN      NaN      NaN      NaN  \n",
       "1          0         0           0      NaN      NaN      NaN      NaN  \n",
       "2          1         0           0      NaN      NaN      NaN      NaN  \n",
       "3          0         0           0      NaN      NaN      NaN      NaN  \n",
       "4          0         0           0      NaN      NaN      NaN      NaN  "
      ]
     },
     "execution_count": 3,
     "metadata": {},
     "output_type": "execute_result"
    }
   ],
   "source": [
    "df.head(5)"
   ]
  },
  {
   "cell_type": "markdown",
   "id": "f22b4297",
   "metadata": {
    "papermill": {
     "duration": 0.013578,
     "end_time": "2024-10-08T12:41:04.433606",
     "exception": false,
     "start_time": "2024-10-08T12:41:04.420028",
     "status": "completed"
    },
    "tags": []
   },
   "source": [
    " # Exploring The Data"
   ]
  },
  {
   "cell_type": "code",
   "execution_count": 4,
   "id": "00003ce8",
   "metadata": {
    "execution": {
     "iopub.execute_input": "2024-10-08T12:41:04.464691Z",
     "iopub.status.busy": "2024-10-08T12:41:04.464305Z",
     "iopub.status.idle": "2024-10-08T12:41:04.492810Z",
     "shell.execute_reply": "2024-10-08T12:41:04.491254Z"
    },
    "papermill": {
     "duration": 0.047114,
     "end_time": "2024-10-08T12:41:04.495511",
     "exception": false,
     "start_time": "2024-10-08T12:41:04.448397",
     "status": "completed"
    },
    "tags": []
   },
   "outputs": [
    {
     "name": "stdout",
     "output_type": "stream",
     "text": [
      "<class 'pandas.core.frame.DataFrame'>\n",
      "RangeIndex: 7050 entries, 0 to 7049\n",
      "Data columns (total 16 columns):\n",
      " #   Column            Non-Null Count  Dtype  \n",
      "---  ------            --------------  -----  \n",
      " 0   status_id         7050 non-null   object \n",
      " 1   status_type       7050 non-null   object \n",
      " 2   status_published  7050 non-null   object \n",
      " 3   num_reactions     7050 non-null   int64  \n",
      " 4   num_comments      7050 non-null   int64  \n",
      " 5   num_shares        7050 non-null   int64  \n",
      " 6   num_likes         7050 non-null   int64  \n",
      " 7   num_loves         7050 non-null   int64  \n",
      " 8   num_wows          7050 non-null   int64  \n",
      " 9   num_hahas         7050 non-null   int64  \n",
      " 10  num_sads          7050 non-null   int64  \n",
      " 11  num_angrys        7050 non-null   int64  \n",
      " 12  Column1           0 non-null      float64\n",
      " 13  Column2           0 non-null      float64\n",
      " 14  Column3           0 non-null      float64\n",
      " 15  Column4           0 non-null      float64\n",
      "dtypes: float64(4), int64(9), object(3)\n",
      "memory usage: 881.4+ KB\n"
     ]
    }
   ],
   "source": [
    "df.info()"
   ]
  },
  {
   "cell_type": "code",
   "execution_count": 5,
   "id": "aa273a6e",
   "metadata": {
    "execution": {
     "iopub.execute_input": "2024-10-08T12:41:04.525458Z",
     "iopub.status.busy": "2024-10-08T12:41:04.525066Z",
     "iopub.status.idle": "2024-10-08T12:41:04.580613Z",
     "shell.execute_reply": "2024-10-08T12:41:04.579253Z"
    },
    "papermill": {
     "duration": 0.073711,
     "end_time": "2024-10-08T12:41:04.583208",
     "exception": false,
     "start_time": "2024-10-08T12:41:04.509497",
     "status": "completed"
    },
    "tags": []
   },
   "outputs": [
    {
     "data": {
      "text/html": [
       "<div>\n",
       "<style scoped>\n",
       "    .dataframe tbody tr th:only-of-type {\n",
       "        vertical-align: middle;\n",
       "    }\n",
       "\n",
       "    .dataframe tbody tr th {\n",
       "        vertical-align: top;\n",
       "    }\n",
       "\n",
       "    .dataframe thead th {\n",
       "        text-align: right;\n",
       "    }\n",
       "</style>\n",
       "<table border=\"1\" class=\"dataframe\">\n",
       "  <thead>\n",
       "    <tr style=\"text-align: right;\">\n",
       "      <th></th>\n",
       "      <th>num_reactions</th>\n",
       "      <th>num_comments</th>\n",
       "      <th>num_shares</th>\n",
       "      <th>num_likes</th>\n",
       "      <th>num_loves</th>\n",
       "      <th>num_wows</th>\n",
       "      <th>num_hahas</th>\n",
       "      <th>num_sads</th>\n",
       "      <th>num_angrys</th>\n",
       "      <th>Column1</th>\n",
       "      <th>Column2</th>\n",
       "      <th>Column3</th>\n",
       "      <th>Column4</th>\n",
       "    </tr>\n",
       "  </thead>\n",
       "  <tbody>\n",
       "    <tr>\n",
       "      <th>count</th>\n",
       "      <td>7050.000000</td>\n",
       "      <td>7050.000000</td>\n",
       "      <td>7050.000000</td>\n",
       "      <td>7050.000000</td>\n",
       "      <td>7050.000000</td>\n",
       "      <td>7050.000000</td>\n",
       "      <td>7050.000000</td>\n",
       "      <td>7050.000000</td>\n",
       "      <td>7050.000000</td>\n",
       "      <td>0.0</td>\n",
       "      <td>0.0</td>\n",
       "      <td>0.0</td>\n",
       "      <td>0.0</td>\n",
       "    </tr>\n",
       "    <tr>\n",
       "      <th>mean</th>\n",
       "      <td>230.117163</td>\n",
       "      <td>224.356028</td>\n",
       "      <td>40.022553</td>\n",
       "      <td>215.043121</td>\n",
       "      <td>12.728652</td>\n",
       "      <td>1.289362</td>\n",
       "      <td>0.696454</td>\n",
       "      <td>0.243688</td>\n",
       "      <td>0.113191</td>\n",
       "      <td>NaN</td>\n",
       "      <td>NaN</td>\n",
       "      <td>NaN</td>\n",
       "      <td>NaN</td>\n",
       "    </tr>\n",
       "    <tr>\n",
       "      <th>std</th>\n",
       "      <td>462.625309</td>\n",
       "      <td>889.636820</td>\n",
       "      <td>131.599965</td>\n",
       "      <td>449.472357</td>\n",
       "      <td>39.972930</td>\n",
       "      <td>8.719650</td>\n",
       "      <td>3.957183</td>\n",
       "      <td>1.597156</td>\n",
       "      <td>0.726812</td>\n",
       "      <td>NaN</td>\n",
       "      <td>NaN</td>\n",
       "      <td>NaN</td>\n",
       "      <td>NaN</td>\n",
       "    </tr>\n",
       "    <tr>\n",
       "      <th>min</th>\n",
       "      <td>0.000000</td>\n",
       "      <td>0.000000</td>\n",
       "      <td>0.000000</td>\n",
       "      <td>0.000000</td>\n",
       "      <td>0.000000</td>\n",
       "      <td>0.000000</td>\n",
       "      <td>0.000000</td>\n",
       "      <td>0.000000</td>\n",
       "      <td>0.000000</td>\n",
       "      <td>NaN</td>\n",
       "      <td>NaN</td>\n",
       "      <td>NaN</td>\n",
       "      <td>NaN</td>\n",
       "    </tr>\n",
       "    <tr>\n",
       "      <th>25%</th>\n",
       "      <td>17.000000</td>\n",
       "      <td>0.000000</td>\n",
       "      <td>0.000000</td>\n",
       "      <td>17.000000</td>\n",
       "      <td>0.000000</td>\n",
       "      <td>0.000000</td>\n",
       "      <td>0.000000</td>\n",
       "      <td>0.000000</td>\n",
       "      <td>0.000000</td>\n",
       "      <td>NaN</td>\n",
       "      <td>NaN</td>\n",
       "      <td>NaN</td>\n",
       "      <td>NaN</td>\n",
       "    </tr>\n",
       "    <tr>\n",
       "      <th>50%</th>\n",
       "      <td>59.500000</td>\n",
       "      <td>4.000000</td>\n",
       "      <td>0.000000</td>\n",
       "      <td>58.000000</td>\n",
       "      <td>0.000000</td>\n",
       "      <td>0.000000</td>\n",
       "      <td>0.000000</td>\n",
       "      <td>0.000000</td>\n",
       "      <td>0.000000</td>\n",
       "      <td>NaN</td>\n",
       "      <td>NaN</td>\n",
       "      <td>NaN</td>\n",
       "      <td>NaN</td>\n",
       "    </tr>\n",
       "    <tr>\n",
       "      <th>75%</th>\n",
       "      <td>219.000000</td>\n",
       "      <td>23.000000</td>\n",
       "      <td>4.000000</td>\n",
       "      <td>184.750000</td>\n",
       "      <td>3.000000</td>\n",
       "      <td>0.000000</td>\n",
       "      <td>0.000000</td>\n",
       "      <td>0.000000</td>\n",
       "      <td>0.000000</td>\n",
       "      <td>NaN</td>\n",
       "      <td>NaN</td>\n",
       "      <td>NaN</td>\n",
       "      <td>NaN</td>\n",
       "    </tr>\n",
       "    <tr>\n",
       "      <th>max</th>\n",
       "      <td>4710.000000</td>\n",
       "      <td>20990.000000</td>\n",
       "      <td>3424.000000</td>\n",
       "      <td>4710.000000</td>\n",
       "      <td>657.000000</td>\n",
       "      <td>278.000000</td>\n",
       "      <td>157.000000</td>\n",
       "      <td>51.000000</td>\n",
       "      <td>31.000000</td>\n",
       "      <td>NaN</td>\n",
       "      <td>NaN</td>\n",
       "      <td>NaN</td>\n",
       "      <td>NaN</td>\n",
       "    </tr>\n",
       "  </tbody>\n",
       "</table>\n",
       "</div>"
      ],
      "text/plain": [
       "       num_reactions  num_comments   num_shares    num_likes    num_loves  \\\n",
       "count    7050.000000   7050.000000  7050.000000  7050.000000  7050.000000   \n",
       "mean      230.117163    224.356028    40.022553   215.043121    12.728652   \n",
       "std       462.625309    889.636820   131.599965   449.472357    39.972930   \n",
       "min         0.000000      0.000000     0.000000     0.000000     0.000000   \n",
       "25%        17.000000      0.000000     0.000000    17.000000     0.000000   \n",
       "50%        59.500000      4.000000     0.000000    58.000000     0.000000   \n",
       "75%       219.000000     23.000000     4.000000   184.750000     3.000000   \n",
       "max      4710.000000  20990.000000  3424.000000  4710.000000   657.000000   \n",
       "\n",
       "          num_wows    num_hahas     num_sads   num_angrys  Column1  Column2  \\\n",
       "count  7050.000000  7050.000000  7050.000000  7050.000000      0.0      0.0   \n",
       "mean      1.289362     0.696454     0.243688     0.113191      NaN      NaN   \n",
       "std       8.719650     3.957183     1.597156     0.726812      NaN      NaN   \n",
       "min       0.000000     0.000000     0.000000     0.000000      NaN      NaN   \n",
       "25%       0.000000     0.000000     0.000000     0.000000      NaN      NaN   \n",
       "50%       0.000000     0.000000     0.000000     0.000000      NaN      NaN   \n",
       "75%       0.000000     0.000000     0.000000     0.000000      NaN      NaN   \n",
       "max     278.000000   157.000000    51.000000    31.000000      NaN      NaN   \n",
       "\n",
       "       Column3  Column4  \n",
       "count      0.0      0.0  \n",
       "mean       NaN      NaN  \n",
       "std        NaN      NaN  \n",
       "min        NaN      NaN  \n",
       "25%        NaN      NaN  \n",
       "50%        NaN      NaN  \n",
       "75%        NaN      NaN  \n",
       "max        NaN      NaN  "
      ]
     },
     "execution_count": 5,
     "metadata": {},
     "output_type": "execute_result"
    }
   ],
   "source": [
    "df.describe()"
   ]
  },
  {
   "cell_type": "code",
   "execution_count": 6,
   "id": "93f5cee0",
   "metadata": {
    "execution": {
     "iopub.execute_input": "2024-10-08T12:41:04.614730Z",
     "iopub.status.busy": "2024-10-08T12:41:04.614317Z",
     "iopub.status.idle": "2024-10-08T12:41:04.627297Z",
     "shell.execute_reply": "2024-10-08T12:41:04.626238Z"
    },
    "papermill": {
     "duration": 0.031871,
     "end_time": "2024-10-08T12:41:04.629716",
     "exception": false,
     "start_time": "2024-10-08T12:41:04.597845",
     "status": "completed"
    },
    "tags": []
   },
   "outputs": [
    {
     "data": {
      "text/plain": [
       "status_id              0\n",
       "status_type            0\n",
       "status_published       0\n",
       "num_reactions          0\n",
       "num_comments           0\n",
       "num_shares             0\n",
       "num_likes              0\n",
       "num_loves              0\n",
       "num_wows               0\n",
       "num_hahas              0\n",
       "num_sads               0\n",
       "num_angrys             0\n",
       "Column1             7050\n",
       "Column2             7050\n",
       "Column3             7050\n",
       "Column4             7050\n",
       "dtype: int64"
      ]
     },
     "execution_count": 6,
     "metadata": {},
     "output_type": "execute_result"
    }
   ],
   "source": [
    "df.isnull().sum()"
   ]
  },
  {
   "cell_type": "code",
   "execution_count": 7,
   "id": "1ec45d63",
   "metadata": {
    "execution": {
     "iopub.execute_input": "2024-10-08T12:41:04.660693Z",
     "iopub.status.busy": "2024-10-08T12:41:04.660285Z",
     "iopub.status.idle": "2024-10-08T12:41:04.668339Z",
     "shell.execute_reply": "2024-10-08T12:41:04.667159Z"
    },
    "papermill": {
     "duration": 0.02643,
     "end_time": "2024-10-08T12:41:04.670890",
     "exception": false,
     "start_time": "2024-10-08T12:41:04.644460",
     "status": "completed"
    },
    "tags": []
   },
   "outputs": [
    {
     "data": {
      "text/plain": [
       "['status_id',\n",
       " 'status_type',\n",
       " 'status_published',\n",
       " 'num_reactions',\n",
       " 'num_comments',\n",
       " 'num_shares',\n",
       " 'num_likes',\n",
       " 'num_loves',\n",
       " 'num_wows',\n",
       " 'num_hahas',\n",
       " 'num_sads',\n",
       " 'num_angrys',\n",
       " 'Column1',\n",
       " 'Column2',\n",
       " 'Column3',\n",
       " 'Column4']"
      ]
     },
     "execution_count": 7,
     "metadata": {},
     "output_type": "execute_result"
    }
   ],
   "source": [
    "df.columns.tolist()"
   ]
  },
  {
   "cell_type": "markdown",
   "id": "3c28980e",
   "metadata": {
    "papermill": {
     "duration": 0.014405,
     "end_time": "2024-10-08T12:41:04.700291",
     "exception": false,
     "start_time": "2024-10-08T12:41:04.685886",
     "status": "completed"
    },
    "tags": []
   },
   "source": [
    "# Removing Unecessary Columns"
   ]
  },
  {
   "cell_type": "code",
   "execution_count": 8,
   "id": "c8cf14ec",
   "metadata": {
    "execution": {
     "iopub.execute_input": "2024-10-08T12:41:04.731602Z",
     "iopub.status.busy": "2024-10-08T12:41:04.731246Z",
     "iopub.status.idle": "2024-10-08T12:41:04.740315Z",
     "shell.execute_reply": "2024-10-08T12:41:04.738807Z"
    },
    "papermill": {
     "duration": 0.02846,
     "end_time": "2024-10-08T12:41:04.743508",
     "exception": false,
     "start_time": "2024-10-08T12:41:04.715048",
     "status": "completed"
    },
    "tags": []
   },
   "outputs": [],
   "source": [
    "df = df.drop(['Column1', 'Column2', 'Column3', 'Column4'], axis = 1)"
   ]
  },
  {
   "cell_type": "code",
   "execution_count": 9,
   "id": "6b4f6493",
   "metadata": {
    "execution": {
     "iopub.execute_input": "2024-10-08T12:41:04.777088Z",
     "iopub.status.busy": "2024-10-08T12:41:04.776539Z",
     "iopub.status.idle": "2024-10-08T12:41:04.792047Z",
     "shell.execute_reply": "2024-10-08T12:41:04.790750Z"
    },
    "papermill": {
     "duration": 0.035022,
     "end_time": "2024-10-08T12:41:04.794509",
     "exception": false,
     "start_time": "2024-10-08T12:41:04.759487",
     "status": "completed"
    },
    "tags": []
   },
   "outputs": [
    {
     "data": {
      "text/html": [
       "<div>\n",
       "<style scoped>\n",
       "    .dataframe tbody tr th:only-of-type {\n",
       "        vertical-align: middle;\n",
       "    }\n",
       "\n",
       "    .dataframe tbody tr th {\n",
       "        vertical-align: top;\n",
       "    }\n",
       "\n",
       "    .dataframe thead th {\n",
       "        text-align: right;\n",
       "    }\n",
       "</style>\n",
       "<table border=\"1\" class=\"dataframe\">\n",
       "  <thead>\n",
       "    <tr style=\"text-align: right;\">\n",
       "      <th></th>\n",
       "      <th>status_id</th>\n",
       "      <th>status_type</th>\n",
       "      <th>status_published</th>\n",
       "      <th>num_reactions</th>\n",
       "      <th>num_comments</th>\n",
       "      <th>num_shares</th>\n",
       "      <th>num_likes</th>\n",
       "      <th>num_loves</th>\n",
       "      <th>num_wows</th>\n",
       "      <th>num_hahas</th>\n",
       "      <th>num_sads</th>\n",
       "      <th>num_angrys</th>\n",
       "    </tr>\n",
       "  </thead>\n",
       "  <tbody>\n",
       "    <tr>\n",
       "      <th>0</th>\n",
       "      <td>246675545449582_1649696485147474</td>\n",
       "      <td>video</td>\n",
       "      <td>4/22/2018 6:00</td>\n",
       "      <td>529</td>\n",
       "      <td>512</td>\n",
       "      <td>262</td>\n",
       "      <td>432</td>\n",
       "      <td>92</td>\n",
       "      <td>3</td>\n",
       "      <td>1</td>\n",
       "      <td>1</td>\n",
       "      <td>0</td>\n",
       "    </tr>\n",
       "  </tbody>\n",
       "</table>\n",
       "</div>"
      ],
      "text/plain": [
       "                          status_id status_type status_published  \\\n",
       "0  246675545449582_1649696485147474       video   4/22/2018 6:00   \n",
       "\n",
       "   num_reactions  num_comments  num_shares  num_likes  num_loves  num_wows  \\\n",
       "0            529           512         262        432         92         3   \n",
       "\n",
       "   num_hahas  num_sads  num_angrys  \n",
       "0          1         1           0  "
      ]
     },
     "execution_count": 9,
     "metadata": {},
     "output_type": "execute_result"
    }
   ],
   "source": [
    "df.head(1)"
   ]
  },
  {
   "cell_type": "markdown",
   "id": "2157c991",
   "metadata": {
    "papermill": {
     "duration": 0.019438,
     "end_time": "2024-10-08T12:41:04.828990",
     "exception": false,
     "start_time": "2024-10-08T12:41:04.809552",
     "status": "completed"
    },
    "tags": []
   },
   "source": [
    "**Setting The status_published**"
   ]
  },
  {
   "cell_type": "code",
   "execution_count": 10,
   "id": "a833c54d",
   "metadata": {
    "execution": {
     "iopub.execute_input": "2024-10-08T12:41:04.861275Z",
     "iopub.status.busy": "2024-10-08T12:41:04.860861Z",
     "iopub.status.idle": "2024-10-08T12:41:04.911007Z",
     "shell.execute_reply": "2024-10-08T12:41:04.909882Z"
    },
    "papermill": {
     "duration": 0.069171,
     "end_time": "2024-10-08T12:41:04.913382",
     "exception": false,
     "start_time": "2024-10-08T12:41:04.844211",
     "status": "completed"
    },
    "tags": []
   },
   "outputs": [],
   "source": [
    "df['status_published'] = pd.to_datetime(df['status_published'])"
   ]
  },
  {
   "cell_type": "code",
   "execution_count": 11,
   "id": "a091bad8",
   "metadata": {
    "execution": {
     "iopub.execute_input": "2024-10-08T12:41:04.945310Z",
     "iopub.status.busy": "2024-10-08T12:41:04.944554Z",
     "iopub.status.idle": "2024-10-08T12:41:04.959330Z",
     "shell.execute_reply": "2024-10-08T12:41:04.958015Z"
    },
    "papermill": {
     "duration": 0.033563,
     "end_time": "2024-10-08T12:41:04.961855",
     "exception": false,
     "start_time": "2024-10-08T12:41:04.928292",
     "status": "completed"
    },
    "tags": []
   },
   "outputs": [
    {
     "data": {
      "text/html": [
       "<div>\n",
       "<style scoped>\n",
       "    .dataframe tbody tr th:only-of-type {\n",
       "        vertical-align: middle;\n",
       "    }\n",
       "\n",
       "    .dataframe tbody tr th {\n",
       "        vertical-align: top;\n",
       "    }\n",
       "\n",
       "    .dataframe thead th {\n",
       "        text-align: right;\n",
       "    }\n",
       "</style>\n",
       "<table border=\"1\" class=\"dataframe\">\n",
       "  <thead>\n",
       "    <tr style=\"text-align: right;\">\n",
       "      <th></th>\n",
       "      <th>status_id</th>\n",
       "      <th>status_type</th>\n",
       "      <th>status_published</th>\n",
       "      <th>num_reactions</th>\n",
       "      <th>num_comments</th>\n",
       "      <th>num_shares</th>\n",
       "      <th>num_likes</th>\n",
       "      <th>num_loves</th>\n",
       "      <th>num_wows</th>\n",
       "      <th>num_hahas</th>\n",
       "      <th>num_sads</th>\n",
       "      <th>num_angrys</th>\n",
       "    </tr>\n",
       "  </thead>\n",
       "  <tbody>\n",
       "    <tr>\n",
       "      <th>0</th>\n",
       "      <td>246675545449582_1649696485147474</td>\n",
       "      <td>video</td>\n",
       "      <td>2018-04-22 06:00:00</td>\n",
       "      <td>529</td>\n",
       "      <td>512</td>\n",
       "      <td>262</td>\n",
       "      <td>432</td>\n",
       "      <td>92</td>\n",
       "      <td>3</td>\n",
       "      <td>1</td>\n",
       "      <td>1</td>\n",
       "      <td>0</td>\n",
       "    </tr>\n",
       "    <tr>\n",
       "      <th>1</th>\n",
       "      <td>246675545449582_1649426988507757</td>\n",
       "      <td>photo</td>\n",
       "      <td>2018-04-21 22:45:00</td>\n",
       "      <td>150</td>\n",
       "      <td>0</td>\n",
       "      <td>0</td>\n",
       "      <td>150</td>\n",
       "      <td>0</td>\n",
       "      <td>0</td>\n",
       "      <td>0</td>\n",
       "      <td>0</td>\n",
       "      <td>0</td>\n",
       "    </tr>\n",
       "  </tbody>\n",
       "</table>\n",
       "</div>"
      ],
      "text/plain": [
       "                          status_id status_type    status_published  \\\n",
       "0  246675545449582_1649696485147474       video 2018-04-22 06:00:00   \n",
       "1  246675545449582_1649426988507757       photo 2018-04-21 22:45:00   \n",
       "\n",
       "   num_reactions  num_comments  num_shares  num_likes  num_loves  num_wows  \\\n",
       "0            529           512         262        432         92         3   \n",
       "1            150             0           0        150          0         0   \n",
       "\n",
       "   num_hahas  num_sads  num_angrys  \n",
       "0          1         1           0  \n",
       "1          0         0           0  "
      ]
     },
     "execution_count": 11,
     "metadata": {},
     "output_type": "execute_result"
    }
   ],
   "source": [
    "df.head(2)"
   ]
  },
  {
   "cell_type": "markdown",
   "id": "ba3370e9",
   "metadata": {
    "papermill": {
     "duration": 0.014835,
     "end_time": "2024-10-08T12:41:04.992011",
     "exception": false,
     "start_time": "2024-10-08T12:41:04.977176",
     "status": "completed"
    },
    "tags": []
   },
   "source": [
    "**In the above code we've change the time in accurate manner.**"
   ]
  },
  {
   "cell_type": "markdown",
   "id": "d92aa977",
   "metadata": {
    "papermill": {
     "duration": 0.014766,
     "end_time": "2024-10-08T12:41:05.021851",
     "exception": false,
     "start_time": "2024-10-08T12:41:05.007085",
     "status": "completed"
    },
    "tags": []
   },
   "source": [
    "# Checking No. of Reactions"
   ]
  },
  {
   "cell_type": "code",
   "execution_count": 12,
   "id": "b72aab70",
   "metadata": {
    "execution": {
     "iopub.execute_input": "2024-10-08T12:41:05.055391Z",
     "iopub.status.busy": "2024-10-08T12:41:05.054969Z",
     "iopub.status.idle": "2024-10-08T12:41:05.432031Z",
     "shell.execute_reply": "2024-10-08T12:41:05.430870Z"
    },
    "papermill": {
     "duration": 0.396527,
     "end_time": "2024-10-08T12:41:05.434561",
     "exception": false,
     "start_time": "2024-10-08T12:41:05.038034",
     "status": "completed"
    },
    "tags": []
   },
   "outputs": [
    {
     "data": {
      "image/png": "[encoded data removed]",
      "text/plain": [
       "<Figure size 640x480 with 1 Axes>"
      ]
     },
     "metadata": {},
     "output_type": "display_data"
    }
   ],
   "source": [
    "plt.hist(df['num_reactions'], bins = 30)\n",
    "plt.xlabel('Number of Reactions')\n",
    "plt.ylabel('Frequency')\n",
    "plt.title('Distribution of Number of Reactions')\n",
    "plt.grid()\n",
    "plt.show()\n"
   ]
  },
  {
   "cell_type": "markdown",
   "id": "a2edfcc3",
   "metadata": {
    "papermill": {
     "duration": 0.015894,
     "end_time": "2024-10-08T12:41:05.466225",
     "exception": false,
     "start_time": "2024-10-08T12:41:05.450331",
     "status": "completed"
    },
    "tags": []
   },
   "source": [
    "# Checking No. of Comments"
   ]
  },
  {
   "cell_type": "code",
   "execution_count": 13,
   "id": "d487f202",
   "metadata": {
    "execution": {
     "iopub.execute_input": "2024-10-08T12:41:05.499733Z",
     "iopub.status.busy": "2024-10-08T12:41:05.498876Z",
     "iopub.status.idle": "2024-10-08T12:41:05.761078Z",
     "shell.execute_reply": "2024-10-08T12:41:05.759792Z"
    },
    "papermill": {
     "duration": 0.281451,
     "end_time": "2024-10-08T12:41:05.763455",
     "exception": false,
     "start_time": "2024-10-08T12:41:05.482004",
     "status": "completed"
    },
    "tags": []
   },
   "outputs": [
    {
     "data": {
      "image/png": "[encoded data removed]",
      "text/plain": [
       "<Figure size 640x480 with 1 Axes>"
      ]
     },
     "metadata": {},
     "output_type": "display_data"
    }
   ],
   "source": [
    "plt.hist(df['num_comments'], bins = 25)\n",
    "plt.xlabel(\"Number of Comments\")\n",
    "plt.ylabel('Frequency')\n",
    "plt.title('Number of Comments')\n",
    "plt.grid()\n",
    "plt.show()"
   ]
  },
  {
   "cell_type": "markdown",
   "id": "ba107d25",
   "metadata": {
    "papermill": {
     "duration": 0.015771,
     "end_time": "2024-10-08T12:41:05.795209",
     "exception": false,
     "start_time": "2024-10-08T12:41:05.779438",
     "status": "completed"
    },
    "tags": []
   },
   "source": [
    "# Number of Shares"
   ]
  },
  {
   "cell_type": "code",
   "execution_count": 14,
   "id": "698f5b8d",
   "metadata": {
    "execution": {
     "iopub.execute_input": "2024-10-08T12:41:05.829293Z",
     "iopub.status.busy": "2024-10-08T12:41:05.828418Z",
     "iopub.status.idle": "2024-10-08T12:41:06.099314Z",
     "shell.execute_reply": "2024-10-08T12:41:06.098068Z"
    },
    "papermill": {
     "duration": 0.2909,
     "end_time": "2024-10-08T12:41:06.102129",
     "exception": false,
     "start_time": "2024-10-08T12:41:05.811229",
     "status": "completed"
    },
    "tags": []
   },
   "outputs": [
    {
     "data": {
      "image/png": "[encoded data removed]",
      "text/plain": [
       "<Figure size 640x480 with 1 Axes>"
      ]
     },
     "metadata": {},
     "output_type": "display_data"
    }
   ],
   "source": [
    "plt.hist(df['num_shares'], bins = 20)\n",
    "plt.xlabel(\"Number of Shares\")\n",
    "plt.ylabel('Frequency')\n",
    "plt.title('Distribution of Number of Shaes')\n",
    "plt.grid()\n",
    "plt.show()"
   ]
  },
  {
   "cell_type": "code",
   "execution_count": 15,
   "id": "d1b5fae1",
   "metadata": {
    "execution": {
     "iopub.execute_input": "2024-10-08T12:41:06.137151Z",
     "iopub.status.busy": "2024-10-08T12:41:06.136748Z",
     "iopub.status.idle": "2024-10-08T12:41:06.153241Z",
     "shell.execute_reply": "2024-10-08T12:41:06.152015Z"
    },
    "papermill": {
     "duration": 0.03716,
     "end_time": "2024-10-08T12:41:06.155922",
     "exception": false,
     "start_time": "2024-10-08T12:41:06.118762",
     "status": "completed"
    },
    "tags": []
   },
   "outputs": [
    {
     "data": {
      "text/html": [
       "<div>\n",
       "<style scoped>\n",
       "    .dataframe tbody tr th:only-of-type {\n",
       "        vertical-align: middle;\n",
       "    }\n",
       "\n",
       "    .dataframe tbody tr th {\n",
       "        vertical-align: top;\n",
       "    }\n",
       "\n",
       "    .dataframe thead th {\n",
       "        text-align: right;\n",
       "    }\n",
       "</style>\n",
       "<table border=\"1\" class=\"dataframe\">\n",
       "  <thead>\n",
       "    <tr style=\"text-align: right;\">\n",
       "      <th></th>\n",
       "      <th>status_id</th>\n",
       "      <th>status_type</th>\n",
       "      <th>status_published</th>\n",
       "      <th>num_reactions</th>\n",
       "      <th>num_comments</th>\n",
       "      <th>num_shares</th>\n",
       "      <th>num_likes</th>\n",
       "      <th>num_loves</th>\n",
       "      <th>num_wows</th>\n",
       "      <th>num_hahas</th>\n",
       "      <th>num_sads</th>\n",
       "      <th>num_angrys</th>\n",
       "    </tr>\n",
       "  </thead>\n",
       "  <tbody>\n",
       "    <tr>\n",
       "      <th>0</th>\n",
       "      <td>246675545449582_1649696485147474</td>\n",
       "      <td>video</td>\n",
       "      <td>2018-04-22 06:00:00</td>\n",
       "      <td>529</td>\n",
       "      <td>512</td>\n",
       "      <td>262</td>\n",
       "      <td>432</td>\n",
       "      <td>92</td>\n",
       "      <td>3</td>\n",
       "      <td>1</td>\n",
       "      <td>1</td>\n",
       "      <td>0</td>\n",
       "    </tr>\n",
       "    <tr>\n",
       "      <th>1</th>\n",
       "      <td>246675545449582_1649426988507757</td>\n",
       "      <td>photo</td>\n",
       "      <td>2018-04-21 22:45:00</td>\n",
       "      <td>150</td>\n",
       "      <td>0</td>\n",
       "      <td>0</td>\n",
       "      <td>150</td>\n",
       "      <td>0</td>\n",
       "      <td>0</td>\n",
       "      <td>0</td>\n",
       "      <td>0</td>\n",
       "      <td>0</td>\n",
       "    </tr>\n",
       "    <tr>\n",
       "      <th>2</th>\n",
       "      <td>246675545449582_1648730588577397</td>\n",
       "      <td>video</td>\n",
       "      <td>2018-04-21 06:17:00</td>\n",
       "      <td>227</td>\n",
       "      <td>236</td>\n",
       "      <td>57</td>\n",
       "      <td>204</td>\n",
       "      <td>21</td>\n",
       "      <td>1</td>\n",
       "      <td>1</td>\n",
       "      <td>0</td>\n",
       "      <td>0</td>\n",
       "    </tr>\n",
       "    <tr>\n",
       "      <th>3</th>\n",
       "      <td>246675545449582_1648576705259452</td>\n",
       "      <td>photo</td>\n",
       "      <td>2018-04-21 02:29:00</td>\n",
       "      <td>111</td>\n",
       "      <td>0</td>\n",
       "      <td>0</td>\n",
       "      <td>111</td>\n",
       "      <td>0</td>\n",
       "      <td>0</td>\n",
       "      <td>0</td>\n",
       "      <td>0</td>\n",
       "      <td>0</td>\n",
       "    </tr>\n",
       "    <tr>\n",
       "      <th>4</th>\n",
       "      <td>246675545449582_1645700502213739</td>\n",
       "      <td>photo</td>\n",
       "      <td>2018-04-18 03:22:00</td>\n",
       "      <td>213</td>\n",
       "      <td>0</td>\n",
       "      <td>0</td>\n",
       "      <td>204</td>\n",
       "      <td>9</td>\n",
       "      <td>0</td>\n",
       "      <td>0</td>\n",
       "      <td>0</td>\n",
       "      <td>0</td>\n",
       "    </tr>\n",
       "  </tbody>\n",
       "</table>\n",
       "</div>"
      ],
      "text/plain": [
       "                          status_id status_type    status_published  \\\n",
       "0  246675545449582_1649696485147474       video 2018-04-22 06:00:00   \n",
       "1  246675545449582_1649426988507757       photo 2018-04-21 22:45:00   \n",
       "2  246675545449582_1648730588577397       video 2018-04-21 06:17:00   \n",
       "3  246675545449582_1648576705259452       photo 2018-04-21 02:29:00   \n",
       "4  246675545449582_1645700502213739       photo 2018-04-18 03:22:00   \n",
       "\n",
       "   num_reactions  num_comments  num_shares  num_likes  num_loves  num_wows  \\\n",
       "0            529           512         262        432         92         3   \n",
       "1            150             0           0        150          0         0   \n",
       "2            227           236          57        204         21         1   \n",
       "3            111             0           0        111          0         0   \n",
       "4            213             0           0        204          9         0   \n",
       "\n",
       "   num_hahas  num_sads  num_angrys  \n",
       "0          1         1           0  \n",
       "1          0         0           0  \n",
       "2          1         0           0  \n",
       "3          0         0           0  \n",
       "4          0         0           0  "
      ]
     },
     "execution_count": 15,
     "metadata": {},
     "output_type": "execute_result"
    }
   ],
   "source": [
    "df.head()"
   ]
  },
  {
   "cell_type": "code",
   "execution_count": 16,
   "id": "92ec1992",
   "metadata": {
    "execution": {
     "iopub.execute_input": "2024-10-08T12:41:06.192965Z",
     "iopub.status.busy": "2024-10-08T12:41:06.192547Z",
     "iopub.status.idle": "2024-10-08T12:41:06.203945Z",
     "shell.execute_reply": "2024-10-08T12:41:06.202763Z"
    },
    "papermill": {
     "duration": 0.032607,
     "end_time": "2024-10-08T12:41:06.206355",
     "exception": false,
     "start_time": "2024-10-08T12:41:06.173748",
     "status": "completed"
    },
    "tags": []
   },
   "outputs": [
    {
     "data": {
      "text/plain": [
       "status_id           0\n",
       "status_type         0\n",
       "status_published    0\n",
       "num_reactions       0\n",
       "num_comments        0\n",
       "num_shares          0\n",
       "num_likes           0\n",
       "num_loves           0\n",
       "num_wows            0\n",
       "num_hahas           0\n",
       "num_sads            0\n",
       "num_angrys          0\n",
       "dtype: int64"
      ]
     },
     "execution_count": 16,
     "metadata": {},
     "output_type": "execute_result"
    }
   ],
   "source": [
    "df.isnull().sum()"
   ]
  },
  {
   "cell_type": "markdown",
   "id": "22e7e2c8",
   "metadata": {
    "papermill": {
     "duration": 0.017233,
     "end_time": "2024-10-08T12:41:06.304274",
     "exception": false,
     "start_time": "2024-10-08T12:41:06.287041",
     "status": "completed"
    },
    "tags": []
   },
   "source": [
    "# Creating Heatmap"
   ]
  },
  {
   "cell_type": "markdown",
   "id": "445400df",
   "metadata": {
    "papermill": {
     "duration": 0.016929,
     "end_time": "2024-10-08T12:41:06.339893",
     "exception": false,
     "start_time": "2024-10-08T12:41:06.322964",
     "status": "completed"
    },
    "tags": []
   },
   "source": [
    "Now It's time to create a **Heatmap** and see the relationship between **num_reaction, num_comments, num_likes and num_shares** and we will see which one is the **Highest** of all of them."
   ]
  },
  {
   "cell_type": "code",
   "execution_count": 17,
   "id": "6f7dc3b6",
   "metadata": {
    "execution": {
     "iopub.execute_input": "2024-10-08T12:41:06.377169Z",
     "iopub.status.busy": "2024-10-08T12:41:06.376750Z",
     "iopub.status.idle": "2024-10-08T12:41:06.751384Z",
     "shell.execute_reply": "2024-10-08T12:41:06.750134Z"
    },
    "papermill": {
     "duration": 0.396413,
     "end_time": "2024-10-08T12:41:06.753889",
     "exception": false,
     "start_time": "2024-10-08T12:41:06.357476",
     "status": "completed"
    },
    "tags": []
   },
   "outputs": [
    {
     "data": {
      "image/png": "[encoded data removed]",
      "text/plain": [
       "<Figure size 640x480 with 2 Axes>"
      ]
     },
     "metadata": {},
     "output_type": "display_data"
    }
   ],
   "source": [
    "corr_matrix = df[['num_reactions', 'num_comments', 'num_likes', 'num_shares']].corr()\n",
    "sns.heatmap(corr_matrix, annot = True, cmap = 'coolwarm')\n",
    "plt.show()"
   ]
  },
  {
   "cell_type": "markdown",
   "id": "3877acc0",
   "metadata": {
    "papermill": {
     "duration": 0.017657,
     "end_time": "2024-10-08T12:41:06.790135",
     "exception": false,
     "start_time": "2024-10-08T12:41:06.772478",
     "status": "completed"
    },
    "tags": []
   },
   "source": [
    "In the above **plot** you can see that **Number of Reactions** are more then others"
   ]
  },
  {
   "cell_type": "markdown",
   "id": "1b22e672",
   "metadata": {
    "papermill": {
     "duration": 0.017476,
     "end_time": "2024-10-08T12:41:06.825473",
     "exception": false,
     "start_time": "2024-10-08T12:41:06.807997",
     "status": "completed"
    },
    "tags": []
   },
   "source": [
    "# Comparing HaHas and Sads"
   ]
  },
  {
   "cell_type": "markdown",
   "id": "638c76be",
   "metadata": {
    "papermill": {
     "duration": 0.017885,
     "end_time": "2024-10-08T12:41:06.861583",
     "exception": false,
     "start_time": "2024-10-08T12:41:06.843698",
     "status": "completed"
    },
    "tags": []
   },
   "source": [
    "Now let's **compare two emotions** one is the **num_hahas** and the second one is **num_Sads** and let see which one is more."
   ]
  },
  {
   "cell_type": "code",
   "execution_count": 18,
   "id": "9c07ed7a",
   "metadata": {
    "execution": {
     "iopub.execute_input": "2024-10-08T12:41:06.898976Z",
     "iopub.status.busy": "2024-10-08T12:41:06.898571Z",
     "iopub.status.idle": "2024-10-08T12:41:07.631185Z",
     "shell.execute_reply": "2024-10-08T12:41:07.629893Z"
    },
    "papermill": {
     "duration": 0.754475,
     "end_time": "2024-10-08T12:41:07.634077",
     "exception": false,
     "start_time": "2024-10-08T12:41:06.879602",
     "status": "completed"
    },
    "tags": []
   },
   "outputs": [
    {
     "data": {
      "image/png": "[encoded data removed]",
      "text/plain": [
       "<Figure size 800x500 with 2 Axes>"
      ]
     },
     "metadata": {},
     "output_type": "display_data"
    }
   ],
   "source": [
    "fig, axes = plt.subplots(1, 2, figsize = (8, 5))\n",
    "\n",
    "sns.histplot(df['num_hahas'], ax = axes[0], color = 'blue')\n",
    "axes[0].set_title('Distribution of Numbers of HaHas')\n",
    "axes[0].set_xlabel('Number of HaHas')\n",
    "axes[0].set_ylabel('Frequency')\n",
    "\n",
    "\n",
    "sns.histplot(df['num_sads'], ax = axes[1], color = 'green')\n",
    "axes[1].set_title('Distribution of Numbers of Sads')\n",
    "axes[1].set_xlabel('Number of Sads')\n",
    "axes[1].set_ylabel('Frequency')\n",
    "\n",
    "\n",
    "plt.tight_layout()\n",
    "plt.show()"
   ]
  },
  {
   "cell_type": "markdown",
   "id": "40229682",
   "metadata": {
    "papermill": {
     "duration": 0.018296,
     "end_time": "2024-10-08T12:41:07.671188",
     "exception": false,
     "start_time": "2024-10-08T12:41:07.652892",
     "status": "completed"
    },
    "tags": []
   },
   "source": [
    "# Comparing Wows And Angrys"
   ]
  },
  {
   "cell_type": "code",
   "execution_count": 19,
   "id": "0cfa1668",
   "metadata": {
    "execution": {
     "iopub.execute_input": "2024-10-08T12:41:07.709998Z",
     "iopub.status.busy": "2024-10-08T12:41:07.709567Z",
     "iopub.status.idle": "2024-10-08T12:41:08.310679Z",
     "shell.execute_reply": "2024-10-08T12:41:08.309364Z"
    },
    "papermill": {
     "duration": 0.624008,
     "end_time": "2024-10-08T12:41:08.313518",
     "exception": false,
     "start_time": "2024-10-08T12:41:07.689510",
     "status": "completed"
    },
    "tags": []
   },
   "outputs": [
    {
     "data": {
      "image/png": "[encoded data removed]",
      "text/plain": [
       "<Figure size 800x500 with 2 Axes>"
      ]
     },
     "metadata": {},
     "output_type": "display_data"
    }
   ],
   "source": [
    "fig, axes = plt.subplots(1, 2, figsize = (8, 5))\n",
    "\n",
    "sns.histplot(df['num_wows'], ax = axes[0], color = 'red')\n",
    "axes[0].set_title('Distribution of Numbers of Wows')\n",
    "axes[0].set_xlabel('Number of Wows')\n",
    "axes[0].set_ylabel('Frequency')\n",
    "\n",
    "\n",
    "sns.histplot(df['num_angrys'], ax = axes[1], color = 'black')\n",
    "axes[1].set_title('Distribution of Numbers of Angrys')\n",
    "axes[1].set_xlabel('Number of Angry')\n",
    "axes[1].set_ylabel('Frequency')\n",
    "\n",
    "plt.tight_layout()\n",
    "plt.show()"
   ]
  },
  {
   "cell_type": "markdown",
   "id": "500444f4",
   "metadata": {
    "papermill": {
     "duration": 0.018848,
     "end_time": "2024-10-08T12:41:08.351484",
     "exception": false,
     "start_time": "2024-10-08T12:41:08.332636",
     "status": "completed"
    },
    "tags": []
   },
   "source": [
    "# Changing status_type into 0s and 1s"
   ]
  },
  {
   "cell_type": "code",
   "execution_count": 20,
   "id": "586478e0",
   "metadata": {
    "execution": {
     "iopub.execute_input": "2024-10-08T12:41:08.392143Z",
     "iopub.status.busy": "2024-10-08T12:41:08.391726Z",
     "iopub.status.idle": "2024-10-08T12:41:08.402871Z",
     "shell.execute_reply": "2024-10-08T12:41:08.401623Z"
    },
    "papermill": {
     "duration": 0.034092,
     "end_time": "2024-10-08T12:41:08.405349",
     "exception": false,
     "start_time": "2024-10-08T12:41:08.371257",
     "status": "completed"
    },
    "tags": []
   },
   "outputs": [
    {
     "data": {
      "text/plain": [
       "0       video\n",
       "1       photo\n",
       "2       video\n",
       "3       photo\n",
       "4       photo\n",
       "        ...  \n",
       "7045    photo\n",
       "7046    photo\n",
       "7047    photo\n",
       "7048    photo\n",
       "7049    photo\n",
       "Name: status_type, Length: 7050, dtype: object"
      ]
     },
     "execution_count": 20,
     "metadata": {},
     "output_type": "execute_result"
    }
   ],
   "source": [
    "df['status_type']"
   ]
  },
  {
   "cell_type": "code",
   "execution_count": 21,
   "id": "2f5dd1ef",
   "metadata": {
    "execution": {
     "iopub.execute_input": "2024-10-08T12:41:08.445545Z",
     "iopub.status.busy": "2024-10-08T12:41:08.445151Z",
     "iopub.status.idle": "2024-10-08T12:41:08.453644Z",
     "shell.execute_reply": "2024-10-08T12:41:08.452260Z"
    },
    "papermill": {
     "duration": 0.031767,
     "end_time": "2024-10-08T12:41:08.456407",
     "exception": false,
     "start_time": "2024-10-08T12:41:08.424640",
     "status": "completed"
    },
    "tags": []
   },
   "outputs": [],
   "source": [
    "df['status_type'] = df['status_type'].map({'photo': 0, 'video': 1})\n"
   ]
  },
  {
   "cell_type": "code",
   "execution_count": 22,
   "id": "1457f417",
   "metadata": {
    "execution": {
     "iopub.execute_input": "2024-10-08T12:41:08.497703Z",
     "iopub.status.busy": "2024-10-08T12:41:08.496700Z",
     "iopub.status.idle": "2024-10-08T12:41:08.515374Z",
     "shell.execute_reply": "2024-10-08T12:41:08.514279Z"
    },
    "papermill": {
     "duration": 0.04189,
     "end_time": "2024-10-08T12:41:08.518006",
     "exception": false,
     "start_time": "2024-10-08T12:41:08.476116",
     "status": "completed"
    },
    "tags": []
   },
   "outputs": [
    {
     "data": {
      "text/html": [
       "<div>\n",
       "<style scoped>\n",
       "    .dataframe tbody tr th:only-of-type {\n",
       "        vertical-align: middle;\n",
       "    }\n",
       "\n",
       "    .dataframe tbody tr th {\n",
       "        vertical-align: top;\n",
       "    }\n",
       "\n",
       "    .dataframe thead th {\n",
       "        text-align: right;\n",
       "    }\n",
       "</style>\n",
       "<table border=\"1\" class=\"dataframe\">\n",
       "  <thead>\n",
       "    <tr style=\"text-align: right;\">\n",
       "      <th></th>\n",
       "      <th>status_id</th>\n",
       "      <th>status_type</th>\n",
       "      <th>status_published</th>\n",
       "      <th>num_reactions</th>\n",
       "      <th>num_comments</th>\n",
       "      <th>num_shares</th>\n",
       "      <th>num_likes</th>\n",
       "      <th>num_loves</th>\n",
       "      <th>num_wows</th>\n",
       "      <th>num_hahas</th>\n",
       "      <th>num_sads</th>\n",
       "      <th>num_angrys</th>\n",
       "    </tr>\n",
       "  </thead>\n",
       "  <tbody>\n",
       "    <tr>\n",
       "      <th>0</th>\n",
       "      <td>246675545449582_1649696485147474</td>\n",
       "      <td>1.0</td>\n",
       "      <td>2018-04-22 06:00:00</td>\n",
       "      <td>529</td>\n",
       "      <td>512</td>\n",
       "      <td>262</td>\n",
       "      <td>432</td>\n",
       "      <td>92</td>\n",
       "      <td>3</td>\n",
       "      <td>1</td>\n",
       "      <td>1</td>\n",
       "      <td>0</td>\n",
       "    </tr>\n",
       "    <tr>\n",
       "      <th>1</th>\n",
       "      <td>246675545449582_1649426988507757</td>\n",
       "      <td>0.0</td>\n",
       "      <td>2018-04-21 22:45:00</td>\n",
       "      <td>150</td>\n",
       "      <td>0</td>\n",
       "      <td>0</td>\n",
       "      <td>150</td>\n",
       "      <td>0</td>\n",
       "      <td>0</td>\n",
       "      <td>0</td>\n",
       "      <td>0</td>\n",
       "      <td>0</td>\n",
       "    </tr>\n",
       "    <tr>\n",
       "      <th>2</th>\n",
       "      <td>246675545449582_1648730588577397</td>\n",
       "      <td>1.0</td>\n",
       "      <td>2018-04-21 06:17:00</td>\n",
       "      <td>227</td>\n",
       "      <td>236</td>\n",
       "      <td>57</td>\n",
       "      <td>204</td>\n",
       "      <td>21</td>\n",
       "      <td>1</td>\n",
       "      <td>1</td>\n",
       "      <td>0</td>\n",
       "      <td>0</td>\n",
       "    </tr>\n",
       "    <tr>\n",
       "      <th>3</th>\n",
       "      <td>246675545449582_1648576705259452</td>\n",
       "      <td>0.0</td>\n",
       "      <td>2018-04-21 02:29:00</td>\n",
       "      <td>111</td>\n",
       "      <td>0</td>\n",
       "      <td>0</td>\n",
       "      <td>111</td>\n",
       "      <td>0</td>\n",
       "      <td>0</td>\n",
       "      <td>0</td>\n",
       "      <td>0</td>\n",
       "      <td>0</td>\n",
       "    </tr>\n",
       "    <tr>\n",
       "      <th>4</th>\n",
       "      <td>246675545449582_1645700502213739</td>\n",
       "      <td>0.0</td>\n",
       "      <td>2018-04-18 03:22:00</td>\n",
       "      <td>213</td>\n",
       "      <td>0</td>\n",
       "      <td>0</td>\n",
       "      <td>204</td>\n",
       "      <td>9</td>\n",
       "      <td>0</td>\n",
       "      <td>0</td>\n",
       "      <td>0</td>\n",
       "      <td>0</td>\n",
       "    </tr>\n",
       "    <tr>\n",
       "      <th>5</th>\n",
       "      <td>246675545449582_1645650162218773</td>\n",
       "      <td>0.0</td>\n",
       "      <td>2018-04-18 02:14:00</td>\n",
       "      <td>217</td>\n",
       "      <td>6</td>\n",
       "      <td>0</td>\n",
       "      <td>211</td>\n",
       "      <td>5</td>\n",
       "      <td>1</td>\n",
       "      <td>0</td>\n",
       "      <td>0</td>\n",
       "      <td>0</td>\n",
       "    </tr>\n",
       "    <tr>\n",
       "      <th>6</th>\n",
       "      <td>246675545449582_1645564175560705</td>\n",
       "      <td>1.0</td>\n",
       "      <td>2018-04-18 00:24:00</td>\n",
       "      <td>503</td>\n",
       "      <td>614</td>\n",
       "      <td>72</td>\n",
       "      <td>418</td>\n",
       "      <td>70</td>\n",
       "      <td>10</td>\n",
       "      <td>2</td>\n",
       "      <td>0</td>\n",
       "      <td>3</td>\n",
       "    </tr>\n",
       "    <tr>\n",
       "      <th>7</th>\n",
       "      <td>246675545449582_1644824665634656</td>\n",
       "      <td>1.0</td>\n",
       "      <td>2018-04-17 07:42:00</td>\n",
       "      <td>295</td>\n",
       "      <td>453</td>\n",
       "      <td>53</td>\n",
       "      <td>260</td>\n",
       "      <td>32</td>\n",
       "      <td>1</td>\n",
       "      <td>1</td>\n",
       "      <td>0</td>\n",
       "      <td>1</td>\n",
       "    </tr>\n",
       "    <tr>\n",
       "      <th>8</th>\n",
       "      <td>246675545449582_1644655795651543</td>\n",
       "      <td>0.0</td>\n",
       "      <td>2018-04-17 03:33:00</td>\n",
       "      <td>203</td>\n",
       "      <td>1</td>\n",
       "      <td>0</td>\n",
       "      <td>198</td>\n",
       "      <td>5</td>\n",
       "      <td>0</td>\n",
       "      <td>0</td>\n",
       "      <td>0</td>\n",
       "      <td>0</td>\n",
       "    </tr>\n",
       "    <tr>\n",
       "      <th>9</th>\n",
       "      <td>246675545449582_1638788379571618</td>\n",
       "      <td>0.0</td>\n",
       "      <td>2018-04-11 04:53:00</td>\n",
       "      <td>170</td>\n",
       "      <td>9</td>\n",
       "      <td>1</td>\n",
       "      <td>167</td>\n",
       "      <td>3</td>\n",
       "      <td>0</td>\n",
       "      <td>0</td>\n",
       "      <td>0</td>\n",
       "      <td>0</td>\n",
       "    </tr>\n",
       "  </tbody>\n",
       "</table>\n",
       "</div>"
      ],
      "text/plain": [
       "                          status_id  status_type    status_published  \\\n",
       "0  246675545449582_1649696485147474          1.0 2018-04-22 06:00:00   \n",
       "1  246675545449582_1649426988507757          0.0 2018-04-21 22:45:00   \n",
       "2  246675545449582_1648730588577397          1.0 2018-04-21 06:17:00   \n",
       "3  246675545449582_1648576705259452          0.0 2018-04-21 02:29:00   \n",
       "4  246675545449582_1645700502213739          0.0 2018-04-18 03:22:00   \n",
       "5  246675545449582_1645650162218773          0.0 2018-04-18 02:14:00   \n",
       "6  246675545449582_1645564175560705          1.0 2018-04-18 00:24:00   \n",
       "7  246675545449582_1644824665634656          1.0 2018-04-17 07:42:00   \n",
       "8  246675545449582_1644655795651543          0.0 2018-04-17 03:33:00   \n",
       "9  246675545449582_1638788379571618          0.0 2018-04-11 04:53:00   \n",
       "\n",
       "   num_reactions  num_comments  num_shares  num_likes  num_loves  num_wows  \\\n",
       "0            529           512         262        432         92         3   \n",
       "1            150             0           0        150          0         0   \n",
       "2            227           236          57        204         21         1   \n",
       "3            111             0           0        111          0         0   \n",
       "4            213             0           0        204          9         0   \n",
       "5            217             6           0        211          5         1   \n",
       "6            503           614          72        418         70        10   \n",
       "7            295           453          53        260         32         1   \n",
       "8            203             1           0        198          5         0   \n",
       "9            170             9           1        167          3         0   \n",
       "\n",
       "   num_hahas  num_sads  num_angrys  \n",
       "0          1         1           0  \n",
       "1          0         0           0  \n",
       "2          1         0           0  \n",
       "3          0         0           0  \n",
       "4          0         0           0  \n",
       "5          0         0           0  \n",
       "6          2         0           3  \n",
       "7          1         0           1  \n",
       "8          0         0           0  \n",
       "9          0         0           0  "
      ]
     },
     "execution_count": 22,
     "metadata": {},
     "output_type": "execute_result"
    }
   ],
   "source": [
    "df.head(10)"
   ]
  },
  {
   "cell_type": "markdown",
   "id": "6e8391cd",
   "metadata": {
    "papermill": {
     "duration": 0.01945,
     "end_time": "2024-10-08T12:41:08.556980",
     "exception": false,
     "start_time": "2024-10-08T12:41:08.537530",
     "status": "completed"
    },
    "tags": []
   },
   "source": [
    "# Checking which one comes most (Photo Or Video)"
   ]
  },
  {
   "cell_type": "code",
   "execution_count": 23,
   "id": "bfd3f931",
   "metadata": {
    "execution": {
     "iopub.execute_input": "2024-10-08T12:41:08.598081Z",
     "iopub.status.busy": "2024-10-08T12:41:08.597658Z",
     "iopub.status.idle": "2024-10-08T12:41:08.800807Z",
     "shell.execute_reply": "2024-10-08T12:41:08.799670Z"
    },
    "papermill": {
     "duration": 0.226875,
     "end_time": "2024-10-08T12:41:08.803341",
     "exception": false,
     "start_time": "2024-10-08T12:41:08.576466",
     "status": "completed"
    },
    "tags": []
   },
   "outputs": [
    {
     "data": {
      "image/png": "[encoded data removed]",
      "text/plain": [
       "<Figure size 600x400 with 1 Axes>"
      ]
     },
     "metadata": {},
     "output_type": "display_data"
    }
   ],
   "source": [
    "status_type_counts = df['status_type'].value_counts()\n",
    "\n",
    "plt.figure(figsize = (6, 4))\n",
    "status_type_counts.plot(kind = 'bar')\n",
    "plt.title('Distribution of Status')\n",
    "plt.xlabel('Status Type')\n",
    "plt.ylabel('Count')\n",
    "plt.show()"
   ]
  },
  {
   "cell_type": "code",
   "execution_count": 24,
   "id": "17f53f38",
   "metadata": {
    "execution": {
     "iopub.execute_input": "2024-10-08T12:41:08.844859Z",
     "iopub.status.busy": "2024-10-08T12:41:08.844415Z",
     "iopub.status.idle": "2024-10-08T12:41:08.852117Z",
     "shell.execute_reply": "2024-10-08T12:41:08.850924Z"
    },
    "papermill": {
     "duration": 0.031254,
     "end_time": "2024-10-08T12:41:08.854488",
     "exception": false,
     "start_time": "2024-10-08T12:41:08.823234",
     "status": "completed"
    },
    "tags": []
   },
   "outputs": [
    {
     "data": {
      "text/plain": [
       "['status_id',\n",
       " 'status_type',\n",
       " 'status_published',\n",
       " 'num_reactions',\n",
       " 'num_comments',\n",
       " 'num_shares',\n",
       " 'num_likes',\n",
       " 'num_loves',\n",
       " 'num_wows',\n",
       " 'num_hahas',\n",
       " 'num_sads',\n",
       " 'num_angrys']"
      ]
     },
     "execution_count": 24,
     "metadata": {},
     "output_type": "execute_result"
    }
   ],
   "source": [
    "df.columns.tolist()"
   ]
  },
  {
   "cell_type": "markdown",
   "id": "4cf43399",
   "metadata": {
    "papermill": {
     "duration": 0.020447,
     "end_time": "2024-10-08T12:41:08.895065",
     "exception": false,
     "start_time": "2024-10-08T12:41:08.874618",
     "status": "completed"
    },
    "tags": []
   },
   "source": [
    "# Compairing Number of Likes and Numbers of Loves"
   ]
  },
  {
   "cell_type": "code",
   "execution_count": 25,
   "id": "7a6fad85",
   "metadata": {
    "execution": {
     "iopub.execute_input": "2024-10-08T12:41:08.938374Z",
     "iopub.status.busy": "2024-10-08T12:41:08.937988Z",
     "iopub.status.idle": "2024-10-08T12:41:09.704493Z",
     "shell.execute_reply": "2024-10-08T12:41:09.703109Z"
    },
    "papermill": {
     "duration": 0.791862,
     "end_time": "2024-10-08T12:41:09.707264",
     "exception": false,
     "start_time": "2024-10-08T12:41:08.915402",
     "status": "completed"
    },
    "tags": []
   },
   "outputs": [
    {
     "data": {
      "image/png": "[encoded data removed]",
      "text/plain": [
       "<Figure size 700x400 with 2 Axes>"
      ]
     },
     "metadata": {},
     "output_type": "display_data"
    }
   ],
   "source": [
    "fig, axes = plt.subplots(1, 2, figsize = (7, 4))\n",
    "\n",
    "sns.histplot(df['num_likes'], ax = axes[0], color = 'red', bins = 25)\n",
    "axes[0].set_title('Distribution of Number of Likes')\n",
    "axes[0].set_xlabel('Number of Likes')\n",
    "axes[0].set_ylabel('Frequency')\n",
    "\n",
    "sns.histplot(df['num_loves'], ax = axes[1], color = 'skyblue', bins = 30)\n",
    "axes[1].set_title('Distribution of Number of Loves')\n",
    "axes[1].set_xlabel('Number of Loves')\n",
    "axes[1].set_ylabel('Frequency')\n",
    "\n",
    "plt.tight_layout()\n",
    "plt.show()"
   ]
  },
  {
   "cell_type": "code",
   "execution_count": 26,
   "id": "3cc1d30d",
   "metadata": {
    "execution": {
     "iopub.execute_input": "2024-10-08T12:41:09.754505Z",
     "iopub.status.busy": "2024-10-08T12:41:09.754083Z",
     "iopub.status.idle": "2024-10-08T12:41:09.763302Z",
     "shell.execute_reply": "2024-10-08T12:41:09.762123Z"
    },
    "papermill": {
     "duration": 0.0376,
     "end_time": "2024-10-08T12:41:09.765873",
     "exception": false,
     "start_time": "2024-10-08T12:41:09.728273",
     "status": "completed"
    },
    "tags": []
   },
   "outputs": [
    {
     "data": {
      "text/plain": [
       "0      2018-04-22 06:00:00\n",
       "1      2018-04-21 22:45:00\n",
       "2      2018-04-21 06:17:00\n",
       "3      2018-04-21 02:29:00\n",
       "4      2018-04-18 03:22:00\n",
       "               ...        \n",
       "7045   2016-09-24 02:58:00\n",
       "7046   2016-09-23 11:19:00\n",
       "7047   2016-09-21 23:03:00\n",
       "7048   2016-09-20 00:43:00\n",
       "7049   2016-09-10 10:30:00\n",
       "Name: status_published, Length: 7050, dtype: datetime64[ns]"
      ]
     },
     "execution_count": 26,
     "metadata": {},
     "output_type": "execute_result"
    }
   ],
   "source": [
    "df['status_published']"
   ]
  },
  {
   "cell_type": "code",
   "execution_count": 27,
   "id": "3d9c6a4a",
   "metadata": {
    "execution": {
     "iopub.execute_input": "2024-10-08T12:41:09.811863Z",
     "iopub.status.busy": "2024-10-08T12:41:09.811257Z",
     "iopub.status.idle": "2024-10-08T12:41:09.828962Z",
     "shell.execute_reply": "2024-10-08T12:41:09.827800Z"
    },
    "papermill": {
     "duration": 0.04466,
     "end_time": "2024-10-08T12:41:09.831932",
     "exception": false,
     "start_time": "2024-10-08T12:41:09.787272",
     "status": "completed"
    },
    "tags": []
   },
   "outputs": [],
   "source": [
    "df['status_published'] = pd.to_datetime(df['status_published'])"
   ]
  },
  {
   "cell_type": "markdown",
   "id": "173ea71e",
   "metadata": {
    "papermill": {
     "duration": 0.021158,
     "end_time": "2024-10-08T12:41:09.874623",
     "exception": false,
     "start_time": "2024-10-08T12:41:09.853465",
     "status": "completed"
    },
    "tags": []
   },
   "source": [
    "# Checking The Frequency of Post Each Day"
   ]
  },
  {
   "cell_type": "markdown",
   "id": "cdbc1b19",
   "metadata": {
    "papermill": {
     "duration": 0.02216,
     "end_time": "2024-10-08T12:41:09.918316",
     "exception": false,
     "start_time": "2024-10-08T12:41:09.896156",
     "status": "completed"
    },
    "tags": []
   },
   "source": [
    "**We aim to visualize the frequency of posts over Day using a line plot.**"
   ]
  },
  {
   "cell_type": "code",
   "execution_count": 28,
   "id": "9d686ac5",
   "metadata": {
    "execution": {
     "iopub.execute_input": "2024-10-08T12:41:09.961805Z",
     "iopub.status.busy": "2024-10-08T12:41:09.961414Z",
     "iopub.status.idle": "2024-10-08T12:41:10.395010Z",
     "shell.execute_reply": "2024-10-08T12:41:10.393684Z"
    },
    "papermill": {
     "duration": 0.459027,
     "end_time": "2024-10-08T12:41:10.398151",
     "exception": false,
     "start_time": "2024-10-08T12:41:09.939124",
     "status": "completed"
    },
    "tags": []
   },
   "outputs": [
    {
     "data": {
      "image/png": "[encoded data removed]",
      "text/plain": [
       "<Figure size 1200x600 with 1 Axes>"
      ]
     },
     "metadata": {},
     "output_type": "display_data"
    }
   ],
   "source": [
    "df.set_index('status_published', inplace = True)\n",
    "\n",
    "df_resampled = df.resample('D').size()\n",
    "\n",
    "plt.figure(figsize = (12, 6))\n",
    "sns.lineplot(data = df_resampled, marker = 'o')\n",
    "plt.title('Daily Post Frequency')\n",
    "plt.xlabel('Date')\n",
    "plt.ylabel('Number of Posts')\n",
    "plt.xticks(rotation = 45)\n",
    "plt.grid()\n",
    "plt.show()"
   ]
  },
  {
   "cell_type": "markdown",
   "id": "659ed12d",
   "metadata": {
    "papermill": {
     "duration": 0.021992,
     "end_time": "2024-10-08T12:41:10.444003",
     "exception": false,
     "start_time": "2024-10-08T12:41:10.422011",
     "status": "completed"
    },
    "tags": []
   },
   "source": [
    "This code tell us the **Number Of Posts** published on each day.\n",
    "\n",
    "And you can see **after 2018 the Numbers Of Posts Increases by Day**"
   ]
  },
  {
   "cell_type": "code",
   "execution_count": null,
   "id": "c6bf5c8c",
   "metadata": {
    "papermill": {
     "duration": 0.022868,
     "end_time": "2024-10-08T12:41:10.489147",
     "exception": false,
     "start_time": "2024-10-08T12:41:10.466279",
     "status": "completed"
    },
    "tags": []
   },
   "outputs": [],
   "source": []
  }
 ],
 "metadata": {
  "kaggle": {
   "accelerator": "none",
   "dataSources": [
    {
     "datasetId": 260377,
     "sourceId": 545527,
     "sourceType": "datasetVersion"
    }
   ],
   "dockerImageVersionId": 30746,
   "isGpuEnabled": false,
   "isInternetEnabled": false,
   "language": "python",
   "sourceType": "notebook"
  },
  "kernelspec": {
   "display_name": "Python 3",
   "language": "python",
   "name": "python3"
  },
  "language_info": {
   "codemirror_mode": {
    "name": "ipython",
    "version": 3
   },
   "file_extension": ".py",
   "mimetype": "text/x-python",
   "name": "python",
   "nbconvert_exporter": "python",
   "pygments_lexer": "ipython3",
   "version": "3.10.13"
  },
  "papermill": {
   "default_parameters": {},
   "duration": 13.504337,
   "end_time": "2024-10-08T12:41:11.235259",
   "environment_variables": {},
   "exception": null,
   "input_path": "__notebook__.ipynb",
   "output_path": "__notebook__.ipynb",
   "parameters": {},
   "start_time": "2024-10-08T12:40:57.730922",
   "version": "2.5.0"
  }
 },
 "nbformat": 4,
 "nbformat_minor": 5
}
